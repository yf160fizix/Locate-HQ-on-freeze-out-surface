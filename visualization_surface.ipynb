{
 "cells": [
  {
   "cell_type": "code",
   "execution_count": 4,
   "id": "f07a733d-7bc3-4ebf-b4b8-d1e0714fa6ec",
   "metadata": {},
   "outputs": [],
   "source": [
    "import numpy as np\n",
    "import matplotlib.pyplot as plt"
   ]
  },
  {
   "cell_type": "code",
   "execution_count": 5,
   "id": "9afe55a8-b6ab-4259-a88f-87d1198d7db5",
   "metadata": {},
   "outputs": [],
   "source": [
    "data = np.loadtxt(\"text_surface.dat\", comments=\"#\")\n",
    "\n",
    "tau      = data[:, 0]\n",
    "x        = data[:, 1]\n",
    "y        = data[:, 2]\n",
    "dsigma_t = data[:, 3]\n",
    "dsigma_x = data[:, 4]\n",
    "dsigma_y = data[:, 5]\n",
    "\n",
    "# for i in range(10):\n",
    "#     print(f\"tau = {tau[i]:.3f}, x = {x[i]:.2f}, y = {y[i]:.2f}, dsigma_t = {dsigma_t[i]:.3f}, dsigma_x = {dsigma_x[i]:.3f}, dsigma_y = {dsigma_y[i]:.3f}\")"
   ]
  },
  {
   "cell_type": "code",
   "execution_count": 8,
   "id": "1458e789-4f74-41ab-bbd8-e961ba21aeb1",
   "metadata": {},
   "outputs": [],
   "source": [
    "mask = np.abs(y) < 0.1\n",
    "x_y0 = x[mask]\n",
    "tau_y0 = tau[mask]\n",
    "\n",
    "plt.figure(figsize=(8, 5))\n",
    "plt.scatter(x_y0, tau_y0, color='magenta', s=1, alpha=0.8, label='freeze-out points')\n",
    "\n",
    "plt.xlabel(\"x [fm]\")\n",
    "plt.ylabel(\"tau [fm]\")\n",
    "plt.title(\"Freeze-out surface (|y| < 0.1)\")\n",
    "plt.grid(True)\n",
    "plt.tight_layout()\n",
    "# plt.savefig(\"fix_y.pdf\")"
   ]
  },
  {
   "cell_type": "code",
   "execution_count": 10,
   "id": "da68f448-689a-4ba0-b9c7-06802003479d",
   "metadata": {},
   "outputs": [],
   "source": [
    "mask = (tau > 1.7) & (tau < 1.8) \n",
    "x_sel       = x[mask]\n",
    "y_sel       = y[mask]\n",
    "dsigma_xsel = dsigma_x[mask]\n",
    "dsigma_ysel = dsigma_y[mask]\n",
    "\n",
    "plt.figure(figsize=(8, 5))\n",
    "\n",
    "plt.scatter(x_sel, y_sel, color='red', s=5, alpha=0.8, label='freeze-out points')\n",
    "\n",
    "plt.quiver(x_sel, y_sel, dsigma_xsel, dsigma_ysel, \n",
    "           angles='xy', scale_units='xy', scale=0.005,\n",
    "           width=0.002, alpha=0.5, color='green', label='normal vectors')\n",
    "\n",
    "plt.xlabel(\"x [fm]\")\n",
    "plt.ylabel(\"y [fm]\")\n",
    "plt.title(\"normal vectors on freeze-out surface (1.7 < tau < 1.8)\")\n",
    "plt.grid(True)\n",
    "plt.tight_layout()\n",
    "plt.legend()\n",
    "# plt.savefig(\"vector.pdf\")\n",
    "# plt.show()"
   ]
  },
  {
   "cell_type": "code",
   "execution_count": null,
   "id": "2a9e5480-0285-465f-b8d2-2cfca7d367e4",
   "metadata": {},
   "outputs": [],
   "source": []
  }
 ],
 "metadata": {
  "kernelspec": {
   "display_name": "Python 3 (ipykernel)",
   "language": "python",
   "name": "python3"
  },
  "language_info": {
   "codemirror_mode": {
    "name": "ipython",
    "version": 3
   },
   "file_extension": ".py",
   "mimetype": "text/x-python",
   "name": "python",
   "nbconvert_exporter": "python",
   "pygments_lexer": "ipython3",
   "version": "3.11.4"
  }
 },
 "nbformat": 4,
 "nbformat_minor": 5
}
